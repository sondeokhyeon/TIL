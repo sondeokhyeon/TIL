{
 "cells": [
  {
   "cell_type": "markdown",
   "metadata": {},
   "source": [
    "## 꼭 알아둬야 할 자료 구조 : 스택 (stack)"
   ]
  },
  {
   "cell_type": "markdown",
   "metadata": {},
   "source": [
    "- 데이터를 제한적으로 접근할 수 있는 구조 \n",
    "    - 한쪽 끝에서만 자료를 넣거나 뺄 수 있는 구조 \n",
    "- 가장 나중에 쌓은 데이터를 가장 먼저 빼낼 수 있는 데이터 구조\n",
    "    - 큐 : FIFO 정책 \n",
    "    - 스택 : LIFO 정책 "
   ]
  },
  {
   "cell_type": "markdown",
   "metadata": {},
   "source": [
    "### 1. 스택 구조"
   ]
  },
  {
   "cell_type": "markdown",
   "metadata": {},
   "source": [
    "- 스택은 LIFO(Last In, First Out) 또는 FILO(First In, Last Out) 데이터 관리 방식을 따름\n",
    "    - LIFO : 마지막에 넣은 데이터를 가장 먼저 추출하는 데이터 관리 정책\n",
    "    - FILO : 처음에 넣은 데이터를 가장 마지막에 추출하는 데이터 관리 정책 \n",
    "- 대표적인 스택의 활용\n",
    "    - 컴퓨터 내부의 프로세스 구조의 함수 동작 방식\n",
    "- 주요기능\n",
    "    - push() : 데이터를 스택에 넣기\n",
    "    - push() : 데이터를 스택에서 꺼내기"
   ]
  },
  {
   "cell_type": "code",
   "execution_count": null,
   "metadata": {},
   "outputs": [],
   "source": []
  }
 ],
 "metadata": {
  "kernelspec": {
   "display_name": "Python 3",
   "language": "python",
   "name": "python3"
  },
  "language_info": {
   "codemirror_mode": {
    "name": "ipython",
    "version": 3
   },
   "file_extension": ".py",
   "mimetype": "text/x-python",
   "name": "python",
   "nbconvert_exporter": "python",
   "pygments_lexer": "ipython3",
   "version": "3.8.3"
  }
 },
 "nbformat": 4,
 "nbformat_minor": 4
}
