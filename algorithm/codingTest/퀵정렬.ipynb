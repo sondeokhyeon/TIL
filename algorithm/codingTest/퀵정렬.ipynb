{
 "cells": [
  {
   "cell_type": "code",
   "execution_count": 51,
   "metadata": {},
   "outputs": [
    {
     "name": "stdout",
     "output_type": "stream",
     "text": [
      "1 9 0\n",
      "[3, 7, 8, 1, 5, 9, 6, 10, 2, 4]\n",
      "-\n",
      "1 8 0\n",
      "[3, 2, 8, 1, 5, 9, 6, 10, 7, 4]\n",
      "-\n",
      "2 3 0\n",
      "[3, 2, 1, 8, 5, 9, 6, 10, 7, 4]\n",
      "-\n",
      "1 1 0\n",
      "[1, 2, 3, 8, 5, 9, 6, 10, 7, 4]\n",
      "-\n",
      "[1, 2, 3, 8, 5, 9, 6, 10, 7, 4]\n",
      "4 9 3\n",
      "[1, 2, 3, 8, 5, 9, 6, 10, 7, 4]\n",
      "-\n",
      "5 9 3\n",
      "[1, 2, 3, 8, 5, 4, 6, 10, 7, 9]\n",
      "-\n",
      "7 8 3\n",
      "[1, 2, 3, 8, 5, 4, 6, 7, 10, 9]\n",
      "-\n",
      "4 6 3\n",
      "[1, 2, 3, 7, 5, 4, 6, 8, 10, 9]\n",
      "-\n",
      "4 5 3\n",
      "[1, 2, 3, 6, 5, 4, 7, 8, 10, 9]\n",
      "-\n",
      "4 4 3\n",
      "[1, 2, 3, 4, 5, 6, 7, 8, 10, 9]\n",
      "-\n",
      "[1, 2, 3, 4, 5, 6, 7, 8, 10, 9]\n",
      "[1, 2, 3, 4, 5, 6, 7, 8, 10, 9]\n",
      "[1, 2, 3, 4, 5, 6, 7, 8, 10, 9]\n",
      "9 9 8\n",
      "[1, 2, 3, 4, 5, 6, 7, 8, 10, 9]\n",
      "-\n",
      "[1, 2, 3, 4, 5, 6, 7, 8, 9, 10]\n",
      "[1, 2, 3, 4, 5, 6, 7, 8, 9, 10]\n",
      "[1, 2, 3, 4, 5, 6, 7, 8, 9, 10]\n"
     ]
    }
   ],
   "source": [
    "\n",
    "data = [3, 7, 8, 1, 5, 9, 6, 10, 2, 4]\n",
    "num = 10;\n",
    "\n",
    "def quicksort(data, start, end) :\n",
    "    if start >= end :\n",
    "        return\n",
    "    \n",
    "    key = start\n",
    "    i = start + 1\n",
    "    j = end\n",
    "    \n",
    "    while i <= j:\n",
    "        print(i, j, key)\n",
    "        print(data)\n",
    "        print('-')\n",
    "        while(i <= end and data[i] <= data[key]) :\n",
    "            i += 1\n",
    "            \n",
    "        while(j > start and data[j] >= data[key] ):\n",
    "            j -= 1 \n",
    "            \n",
    "        if i > j:\n",
    "            temp = data[j]\n",
    "            data[j] = data[key]\n",
    "            data[key] = temp\n",
    "        else:\n",
    "            temp = data[j]\n",
    "            data[j] = data[i]\n",
    "            data[i] = temp;\n",
    "            \n",
    "    quicksort(data, start, j - 1)\n",
    "    quicksort(data, j + 1, end)\n",
    "    print(data)\n",
    "    \n",
    "quicksort(data, 0, num - 1)\n"
   ]
  },
  {
   "cell_type": "code",
   "execution_count": null,
   "metadata": {},
   "outputs": [],
   "source": []
  }
 ],
 "metadata": {
  "kernelspec": {
   "display_name": "Python 3",
   "language": "python",
   "name": "python3"
  },
  "language_info": {
   "codemirror_mode": {
    "name": "ipython",
    "version": 3
   },
   "file_extension": ".py",
   "mimetype": "text/x-python",
   "name": "python",
   "nbconvert_exporter": "python",
   "pygments_lexer": "ipython3",
   "version": "3.8.3"
  }
 },
 "nbformat": 4,
 "nbformat_minor": 4
}
