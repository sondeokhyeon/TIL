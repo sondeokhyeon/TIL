{
 "cells": [
  {
   "cell_type": "code",
   "execution_count": 35,
   "metadata": {},
   "outputs": [
    {
     "name": "stdout",
     "output_type": "stream",
     "text": [
      "[1, 4, 10, 5, 9, 2, 3, 8, 6, 7]\n",
      "[1, 4, 5, 10, 9, 2, 3, 8, 6, 7]\n",
      "[1, 4, 5, 9, 10, 2, 3, 8, 6, 7]\n",
      "[1, 4, 5, 9, 2, 10, 3, 8, 6, 7]\n",
      "[1, 4, 5, 2, 9, 10, 3, 8, 6, 7]\n",
      "[1, 4, 2, 5, 9, 10, 3, 8, 6, 7]\n",
      "[1, 2, 4, 5, 9, 10, 3, 8, 6, 7]\n",
      "[1, 2, 4, 5, 9, 3, 10, 8, 6, 7]\n",
      "[1, 2, 4, 5, 3, 9, 10, 8, 6, 7]\n",
      "[1, 2, 4, 3, 5, 9, 10, 8, 6, 7]\n",
      "[1, 2, 3, 4, 5, 9, 10, 8, 6, 7]\n",
      "[1, 2, 3, 4, 5, 9, 8, 10, 6, 7]\n",
      "[1, 2, 3, 4, 5, 8, 9, 10, 6, 7]\n",
      "[1, 2, 3, 4, 5, 8, 9, 6, 10, 7]\n",
      "[1, 2, 3, 4, 5, 8, 6, 9, 10, 7]\n",
      "[1, 2, 3, 4, 5, 6, 8, 9, 10, 7]\n",
      "[1, 2, 3, 4, 5, 6, 8, 9, 7, 10]\n",
      "[1, 2, 3, 4, 5, 6, 8, 7, 9, 10]\n",
      "[1, 2, 3, 4, 5, 6, 7, 8, 9, 10]\n"
     ]
    }
   ],
   "source": [
    "\n",
    "arr = [1, 4, 10, 5, 9, 2, 3, 8, 6, 7]\n",
    "\n",
    "print(arr)\n",
    "for i in range(len(arr) - 1):\n",
    "    j = i\n",
    "    \n",
    "    while arr[j] > arr[j + 1]:\n",
    "        temp = arr[j + 1]\n",
    "        arr[j + 1] = arr[j]\n",
    "        arr[j] = temp\n",
    "        j -= 1\n",
    "        print(arr)"
   ]
  },
  {
   "cell_type": "code",
   "execution_count": null,
   "metadata": {},
   "outputs": [],
   "source": []
  }
 ],
 "metadata": {
  "kernelspec": {
   "display_name": "Python 3",
   "language": "python",
   "name": "python3"
  },
  "language_info": {
   "codemirror_mode": {
    "name": "ipython",
    "version": 3
   },
   "file_extension": ".py",
   "mimetype": "text/x-python",
   "name": "python",
   "nbconvert_exporter": "python",
   "pygments_lexer": "ipython3",
   "version": "3.8.3"
  }
 },
 "nbformat": 4,
 "nbformat_minor": 4
}
